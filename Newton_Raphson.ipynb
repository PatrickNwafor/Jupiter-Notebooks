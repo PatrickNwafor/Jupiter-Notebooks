{
 "cells": [
  {
   "cell_type": "markdown",
   "id": "4ecc25db",
   "metadata": {},
   "source": [
    "## Finding Square root using Newton Raphson Method"
   ]
  },
  {
   "cell_type": "code",
   "execution_count": 23,
   "id": "94c9d169",
   "metadata": {},
   "outputs": [
    {
     "name": "stdout",
     "output_type": "stream",
     "text": [
      "Enter Initial Guess: 4\n",
      "1.4761904761904763\n",
      "-0.21922359359558488\n",
      "-0.21922359359558488\n",
      "-0.21922359359558488\n",
      "-0.21922359359558488\n",
      "-0.21922359359558488\n",
      "-0.21922359359558488\n",
      "-0.21922359359558488\n",
      "-0.21922359359558488\n",
      "-0.21922359359558488\n",
      "-0.21922359359558488\n",
      "-0.21922359359558488\n",
      "-0.21922359359558488\n",
      "-0.21922359359558488\n",
      "-0.21922359359558488\n",
      "-0.21922359359558488\n",
      "-0.21922359359558488\n",
      "-0.21922359359558488\n",
      "-0.21922359359558488\n",
      "-0.21922359359558488\n"
     ]
    }
   ],
   "source": [
    "# f(x) = 2*x2 + 5*x + 1\n",
    "# f'(x) = 4x+ 5\n",
    "\n",
    "\n",
    "def f(x_0):\n",
    "    return (2*(x_0**2) + 5*x_0 +1)\n",
    "\n",
    "def fdash(x_0):\n",
    "    return (4*x_0 + 5)\n",
    "\n",
    "x0 = int(input('Enter Initial Guess: '))\n",
    "for i in range(200):\n",
    "    x0 = x0 - f(x0)/fdash(x0)\n",
    "    if i%10 == 0:\n",
    "        print(x0)\n",
    "        \n",
    "root = x0"
   ]
  },
  {
   "cell_type": "code",
   "execution_count": 15,
   "id": "54c0c4f8",
   "metadata": {},
   "outputs": [
    {
     "data": {
      "text/plain": [
       "-0.21922359359558488"
      ]
     },
     "execution_count": 15,
     "metadata": {},
     "output_type": "execute_result"
    }
   ],
   "source": [
    "root"
   ]
  },
  {
   "cell_type": "markdown",
   "id": "fb38e602",
   "metadata": {},
   "source": [
    "## Finding Absolute Permeability Using Newton Raphson Method"
   ]
  },
  {
   "cell_type": "code",
   "execution_count": 24,
   "id": "f5a66152",
   "metadata": {},
   "outputs": [
    {
     "name": "stdout",
     "output_type": "stream",
     "text": [
      "Enter Initial Permeability Guess: 30\n",
      "22.718999445682453\n",
      "22.849002279471136\n",
      "22.849002279471136\n",
      "22.849002279471136\n",
      "22.849002279471136\n",
      "22.849002279471136\n",
      "22.849002279471136\n",
      "22.849002279471136\n",
      "22.849002279471136\n",
      "22.849002279471136\n",
      "22.849002279471136\n",
      "22.849002279471136\n",
      "22.849002279471136\n",
      "22.849002279471136\n",
      "22.849002279471136\n",
      "22.849002279471136\n",
      "22.849002279471136\n",
      "22.849002279471136\n",
      "22.849002279471136\n",
      "22.849002279471136\n"
     ]
    }
   ],
   "source": [
    "# f(x) = 6.9*Kl**0.64 + Pm*Kl - Pm*Kg\n",
    "# f'(x) = 4.416*kl**-0.34 + Pm\n",
    "\n",
    "# mean pressure\n",
    "pm = 2.152\n",
    "\n",
    "# Air permeability\n",
    "kg = 46.6\n",
    "\n",
    "def f(kl):\n",
    "    return (6.9*(kl**0.64) + pm*kl - pm*kg)\n",
    "\n",
    "def fdash(kl):\n",
    "    return (4.416*(kl**-0.36) + pm )\n",
    "\n",
    "x0 = int(input('Enter Initial Permeability Guess: '))\n",
    "for i in range(200):\n",
    "    x0 = x0 - f(x0)/fdash(x0)\n",
    "    if i%10 == 0:\n",
    "        print(x0)\n",
    "        \n",
    "absolute_perm = x0"
   ]
  },
  {
   "cell_type": "code",
   "execution_count": 25,
   "id": "ad00368a",
   "metadata": {},
   "outputs": [
    {
     "data": {
      "text/plain": [
       "22.849002279471133"
      ]
     },
     "execution_count": 25,
     "metadata": {},
     "output_type": "execute_result"
    }
   ],
   "source": [
    "absolute_perm"
   ]
  },
  {
   "cell_type": "code",
   "execution_count": null,
   "id": "4da9247b",
   "metadata": {},
   "outputs": [],
   "source": []
  }
 ],
 "metadata": {
  "kernelspec": {
   "display_name": "Python 3",
   "language": "python",
   "name": "python3"
  },
  "language_info": {
   "codemirror_mode": {
    "name": "ipython",
    "version": 3
   },
   "file_extension": ".py",
   "mimetype": "text/x-python",
   "name": "python",
   "nbconvert_exporter": "python",
   "pygments_lexer": "ipython3",
   "version": "3.8.8"
  }
 },
 "nbformat": 4,
 "nbformat_minor": 5
}
